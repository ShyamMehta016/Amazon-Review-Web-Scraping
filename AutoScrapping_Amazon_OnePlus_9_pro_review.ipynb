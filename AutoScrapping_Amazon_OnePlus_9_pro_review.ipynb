{
 "cells": [
  {
   "cell_type": "code",
   "execution_count": 1,
   "id": "e0d061cf",
   "metadata": {},
   "outputs": [
    {
     "name": "stdout",
     "output_type": "stream",
     "text": [
      "Requirement already satisfied: autoscraper in c:\\users\\shyam\\anaconda3\\lib\\site-packages (1.1.12)\n",
      "Requirement already satisfied: bs4 in c:\\users\\shyam\\anaconda3\\lib\\site-packages (from autoscraper) (0.0.1)\n",
      "Requirement already satisfied: requests in c:\\users\\shyam\\anaconda3\\lib\\site-packages (from autoscraper) (2.25.1)\n",
      "Requirement already satisfied: lxml in c:\\users\\shyam\\anaconda3\\lib\\site-packages (from autoscraper) (4.6.3)\n",
      "Requirement already satisfied: beautifulsoup4 in c:\\users\\shyam\\anaconda3\\lib\\site-packages (from bs4->autoscraper) (4.9.3)\n",
      "Requirement already satisfied: soupsieve>1.2 in c:\\users\\shyam\\anaconda3\\lib\\site-packages (from beautifulsoup4->bs4->autoscraper) (2.2.1)\n",
      "Requirement already satisfied: chardet<5,>=3.0.2 in c:\\users\\shyam\\anaconda3\\lib\\site-packages (from requests->autoscraper) (4.0.0)\n",
      "Requirement already satisfied: urllib3<1.27,>=1.21.1 in c:\\users\\shyam\\anaconda3\\lib\\site-packages (from requests->autoscraper) (1.26.4)\n",
      "Requirement already satisfied: certifi>=2017.4.17 in c:\\users\\shyam\\anaconda3\\lib\\site-packages (from requests->autoscraper) (2020.12.5)\n",
      "Requirement already satisfied: idna<3,>=2.5 in c:\\users\\shyam\\anaconda3\\lib\\site-packages (from requests->autoscraper) (2.10)\n"
     ]
    }
   ],
   "source": [
    "!pip install autoscraper"
   ]
  },
  {
   "cell_type": "code",
   "execution_count": 2,
   "id": "e495acca",
   "metadata": {},
   "outputs": [],
   "source": [
    "from autoscraper import AutoScraper"
   ]
  },
  {
   "cell_type": "code",
   "execution_count": 7,
   "id": "a922b7cc",
   "metadata": {},
   "outputs": [],
   "source": [
    "url=\"https://www.amazon.in/Test-Exclusive_2020_1168-Multi-3GB-Storage/product-reviews/B089MT2CNG/ref=cm_cr_dp_d_show_all_btm?ie=UTF8&reviewerType=all_reviews\"\n",
    "\n",
    "wanted_list=[\"Warning Everyone: Phone is Overheating like hell\",\"Reviewed in India on 3 April 2021 Style name: 12GB RAM, 256GB StorageColour: Morning Mist\",\"I just received my Oneplus Pro 9 12Gb/256GB Model, guess what I dint even finish setting up the phone the Phone is OVERHEATING and showing a message that Phone is Overheated. Oneplus is this your premium Phone??? COMMON... I am very disappointed buying this. I initially thought my phone might be defective, but i researched more about this, I found a Forum Thread in Oneplus Website where everyone is complaining of Over Heating issues. You cannot even record a 4k video for 60 sec, phone overheats and stops the recording. Forget 8K recording.. Just read the thread in OnePlus Forum, others cannot even click photo, phone overheats and stops the camera... What is this ONEPLUS? You better release an software update and fix this mess. This is not expected from premium phone like this. I will not change One Star until you fix this Over Heating issue. VERY MUCH DISSAPOINTED.\"]"
   ]
  },
  {
   "cell_type": "code",
   "execution_count": 8,
   "id": "b94a925d",
   "metadata": {},
   "outputs": [
    {
     "name": "stdout",
     "output_type": "stream",
     "text": [
      "['Warning Everyone: Phone is Overheating like hell', 'Worst mobile', 'Not up to the expectations.', 'DEFECTIVE PIECE RECEIVED AFTER PAYING 70K.. TOTALLY WASTE OF MONEY', 'Warp charge with Warp drain', 'Looks annoying', 'Useless do not buy', 'Heating issues', 'I just received my Oneplus Pro 9 12Gb/256GB Model, guess what I dint even finish setting up the phone the Phone is OVERHEATING and showing a message that Phone is Overheated. Oneplus is this your premium Phone??? COMMON... I am very disappointed buying this. I initially thought my phone might be defective, but i researched more about this, I found a Forum Thread in Oneplus Website where everyone is complaining of Over Heating issues. You cannot even record a 4k video for 60 sec, phone overheats and stops the recording. Forget 8K recording.. Just read the thread in OnePlus Forum, others cannot even click photo, phone overheats and stops the camera... What is this ONEPLUS? You better release an software update and fix this mess. This is not expected from premium phone like this. I will not change One Star until you fix this Over Heating issue. VERY MUCH DISSAPOINTED.', \"Completely I didn't like this mobile and waste of my money. Please guys don't buy this mobile and don't waste your money.\", 'Worst battery', 'Got the product with link line on display.. dont but this product .. waste of money', \"I know that with so much competition, its more about marketing than actual product. My only expectations were a good camera, high performance processor and a long battery life.Since I was switching from Oneplus 5, the camera system and the performance was a good upgrade for me. BUT unfortunately the battery was way out of expectation.Fully charged at 09.25am, it died at 16:49pm under low usage. I didn't install any demanding apps or games. Also the back side was pretty warm all of the time, even when not doing anything.Before that day I left the phone at 50% while going to sleep and in the morning it was 38%. Its definitely a defect with such a low standby time for a new device. There's no point in 30 minutes fast charge if the drain is that fast.In two days of using the device I had to charge it 3 times. It could be a defect on my unit only but unfortunately I had to return it. I could have waited to see if an update could solve it but just didn't want to end up in the service center fiasco. Everybody knows how after sales service works in India.Lets wait more to see if others complain about the same too.\", 'The back looks very cheesy. Made of tin.It gets heated too frequently.Battery backup is too less.', 'It is a phone which does not had cooling system its heat too much in even simple use .wasted 65k rs for such thing', \"I have been using this phone from 3 days . I have found 3 major issues with the phone1.Auto call recording option is absent in thsi version2.heating issue, by  using the phone continuously for 3 hrs it's getting heat and displaying heat warning.3.The watermark on the camera is aligned at the center of the iamge which should be aligned either left corner or right corner which makes the watermark valuable.\"]\n"
     ]
    }
   ],
   "source": [
    "scraper=AutoScraper()\n",
    "result=scraper.build(url,wanted_list)\n",
    "print(result)"
   ]
  },
  {
   "cell_type": "code",
   "execution_count": 9,
   "id": "ff35e663",
   "metadata": {},
   "outputs": [
    {
     "data": {
      "text/plain": [
       "{'rule_r5d5': ['Warning Everyone: Phone is Overheating like hell',\n",
       "  'Worst mobile',\n",
       "  'Not up to the expectations.',\n",
       "  'DEFECTIVE PIECE RECEIVED AFTER PAYING 70K.. TOTALLY WASTE OF MONEY',\n",
       "  'Warp charge with Warp drain',\n",
       "  'Looks annoying',\n",
       "  'Useless do not buy',\n",
       "  'Heating issues'],\n",
       " 'rule_9i7s': ['I just received my Oneplus Pro 9 12Gb/256GB Model, guess what I dint even finish setting up the phone the Phone is OVERHEATING and showing a message that Phone is Overheated. Oneplus is this your premium Phone??? COMMON... I am very disappointed buying this. I initially thought my phone might be defective, but i researched more about this, I found a Forum Thread in Oneplus Website where everyone is complaining of Over Heating issues. You cannot even record a 4k video for 60 sec, phone overheats and stops the recording. Forget 8K recording.. Just read the thread in OnePlus Forum, others cannot even click photo, phone overheats and stops the camera... What is this ONEPLUS? You better release an software update and fix this mess. This is not expected from premium phone like this. I will not change One Star until you fix this Over Heating issue. VERY MUCH DISSAPOINTED.',\n",
       "  \"Completely I didn't like this mobile and waste of my money. Please guys don't buy this mobile and don't waste your money.\",\n",
       "  'Worst battery',\n",
       "  'Got the product with link line on display.. dont but this product .. waste of money',\n",
       "  \"I know that with so much competition, its more about marketing than actual product. My only expectations were a good camera, high performance processor and a long battery life.Since I was switching from Oneplus 5, the camera system and the performance was a good upgrade for me. BUT unfortunately the battery was way out of expectation.Fully charged at 09.25am, it died at 16:49pm under low usage. I didn't install any demanding apps or games. Also the back side was pretty warm all of the time, even when not doing anything.Before that day I left the phone at 50% while going to sleep and in the morning it was 38%. Its definitely a defect with such a low standby time for a new device. There's no point in 30 minutes fast charge if the drain is that fast.In two days of using the device I had to charge it 3 times. It could be a defect on my unit only but unfortunately I had to return it. I could have waited to see if an update could solve it but just didn't want to end up in the service center fiasco. Everybody knows how after sales service works in India.Lets wait more to see if others complain about the same too.\",\n",
       "  'The back looks very cheesy. Made of tin.It gets heated too frequently.Battery backup is too less.',\n",
       "  'It is a phone which does not had cooling system its heat too much in even simple use .wasted 65k rs for such thing',\n",
       "  \"I have been using this phone from 3 days . I have found 3 major issues with the phone1.Auto call recording option is absent in thsi version2.heating issue, by  using the phone continuously for 3 hrs it's getting heat and displaying heat warning.3.The watermark on the camera is aligned at the center of the iamge which should be aligned either left corner or right corner which makes the watermark valuable.\"]}"
      ]
     },
     "execution_count": 9,
     "metadata": {},
     "output_type": "execute_result"
    }
   ],
   "source": [
    "scraper.get_result_similar(url,grouped=True)"
   ]
  },
  {
   "cell_type": "code",
   "execution_count": null,
   "id": "b8f31f0d",
   "metadata": {},
   "outputs": [],
   "source": []
  }
 ],
 "metadata": {
  "kernelspec": {
   "display_name": "Python 3",
   "language": "python",
   "name": "python3"
  },
  "language_info": {
   "codemirror_mode": {
    "name": "ipython",
    "version": 3
   },
   "file_extension": ".py",
   "mimetype": "text/x-python",
   "name": "python",
   "nbconvert_exporter": "python",
   "pygments_lexer": "ipython3",
   "version": "3.8.8"
  }
 },
 "nbformat": 4,
 "nbformat_minor": 5
}
